{
 "cells": [
  {
   "cell_type": "markdown",
   "metadata": {},
   "source": [
    "# Training Draft"
   ]
  },
  {
   "cell_type": "markdown",
   "metadata": {},
   "source": [
    "#### Xiao Xin"
   ]
  },
  {
   "cell_type": "code",
   "execution_count": 53,
   "metadata": {},
   "outputs": [],
   "source": [
    "class Segment:\n",
    "    def __init__(self, start, end):\n",
    "        self.start = start\n",
    "        self.end = end\n",
    "        self.vector = [e - s for s, e in zip(start, end)]\n",
    "        self.length = sum((s - e) * (s - e) for s, e in zip(start, end))\n",
    "    \n",
    "    def __iter__(self):\n",
    "        i , j = self.start\n",
    "        dx, dy = self.vector\n",
    "        if dx == 0:\n",
    "            dx, dy = 0, 1\n",
    "        else:\n",
    "            dx, dy = 1, dy / float(dx)\n",
    "        while i <= self.end[0] or j <= self.end[1]:\n",
    "            yield i, int(j)\n",
    "            i, j = i + dx, j + dy\n",
    "    \n",
    "    def distance(self, point):\n",
    "        point_vector = [e - s for s, e in zip(self.start, point)]\n",
    "        dot_product = sum(a * b for a, b in zip(point_vector, self.vector))\n",
    "        if dot_product < 0: \n",
    "            return sum((s - e) * (s - e) for s, e in zip(self.start, point))\n",
    "        if dot_product >= self.length:\n",
    "            return sum((s - e) * (s - e) for s, e in zip(self.end, point))\n",
    "        projection = dot_product * dot_product / float(self.length)\n",
    "        distance = sum(x * x for x in point_vector) - projection\n",
    "        return distance\n",
    "\n",
    "class Reducer:\n",
    "    def __init__(self, skeleton):\n",
    "        self.skeleton = Mapper(skeleton)\n",
    "    \n",
    "    def reduce(self, graph):\n",
    "        # graph -> Mapper\n",
    "        return sum(self.__reduce_block(graph, block_id) for block_id in xrange(SIDE * SIDE))\n",
    "    \n",
    "    def __reduce_block(self, graph, block_id):\n",
    "        # return block MSE\n",
    "        skeleton_block = self.skeleton.get(block_id)\n",
    "        graph_block = graph.get(block_id)\n",
    "        \n",
    "        result = 0\n",
    "        for segment in graph_block:\n",
    "            for point in segment:\n",
    "                result += min(norm.distance(point) for norm in skeleton_block)\n",
    "        return result"
   ]
  }
 ],
 "metadata": {
  "kernelspec": {
   "display_name": "Python 2",
   "language": "python",
   "name": "python2"
  },
  "language_info": {
   "codemirror_mode": {
    "name": "ipython",
    "version": 2
   },
   "file_extension": ".py",
   "mimetype": "text/x-python",
   "name": "python",
   "nbconvert_exporter": "python",
   "pygments_lexer": "ipython2",
   "version": "2.7.13"
  }
 },
 "nbformat": 4,
 "nbformat_minor": 2
}
