{
 "cells": [
  {
   "cell_type": "markdown",
   "metadata": {},
   "source": [
    "# Training Draft"
   ]
  },
  {
   "cell_type": "markdown",
   "metadata": {},
   "source": [
    "#### Xiao Xin"
   ]
  },
  {
   "cell_type": "code",
   "execution_count": 1,
   "metadata": {
    "collapsed": true
   },
   "outputs": [],
   "source": [
    "import numpy as np\n",
    "import tensorflow as tf\n",
    "\n",
    "from math import sqrt\n",
    "import matplotlib.pyplot as plt\n",
    "from db.driver import Driver\n",
    "\n",
    "%matplotlib inline"
   ]
  },
  {
   "cell_type": "code",
   "execution_count": 2,
   "metadata": {
    "collapsed": true
   },
   "outputs": [],
   "source": [
    "driver = Driver()\n",
    "DIMENSION = 256"
   ]
  },
  {
   "cell_type": "code",
   "execution_count": 3,
   "metadata": {
    "collapsed": true
   },
   "outputs": [],
   "source": [
    "def perpendicular_distance(point, start, end):\n",
    "    x, y = (v - n for v, n in zip(point, start))\n",
    "    b, a = (v - n for v, n in zip(end, start))\n",
    "    return abs(a * x - b * y) / sqrt(a * a + b * b)\n",
    "\n",
    "# Ramer-Douglas-Peucker Line Simplification\n",
    "def RDP(curve_list, epsilon=2.0):\n",
    "    def single(curve):\n",
    "        curve = zip(*curve)\n",
    "        def helper(i, j):\n",
    "            pivot = max_distance = 0\n",
    "            start, end = curve[i], curve[j - 1]\n",
    "            for x in xrange(i, j):\n",
    "                p = curve[x]\n",
    "                d = perpendicular_distance(p, start, end)\n",
    "                if d > max_distance:\n",
    "                    pivot, max_distance = x, d\n",
    "            if max_distance <= epsilon:\n",
    "                return [start, end]\n",
    "            result = helper(i, pivot + 1)\n",
    "            result.extend(helper(pivot, j)[1:])\n",
    "            return result\n",
    "        return zip(*helper(0, len(curve)))\n",
    "    return [single(curve) for curve in curve_list]"
   ]
  },
  {
   "cell_type": "code",
   "execution_count": 4,
   "metadata": {
    "collapsed": true
   },
   "outputs": [],
   "source": [
    "def generate_image_matrix(obj):\n",
    "    image = np.zeros((DIMENSION, DIMENSION))\n",
    "    for stroke in obj['drawing']:\n",
    "        for x, y in zip(*stroke):\n",
    "            image[y][x] = 1\n",
    "    return image\n",
    "\n",
    "def display_image_matrix(obj):\n",
    "    plt.axis('off')\n",
    "    plt.imshow(generate_image_matrix(obj), cmap='Greys')\n",
    "    plt.show()\n",
    "\n",
    "def draw_from_strokes(obj):\n",
    "    plt.axis('off')\n",
    "    plt.gca().invert_yaxis()\n",
    "    for stroke in obj['drawing']:\n",
    "        plt.plot(*stroke, color='black')\n",
    "    plt.show()"
   ]
  },
  {
   "cell_type": "code",
   "execution_count": 5,
   "metadata": {
    "collapsed": true
   },
   "outputs": [],
   "source": [
    "def decode_input(line):\n",
    "    result = []\n",
    "    for stroke in line.split('-'):\n",
    "        result.append([[], []])\n",
    "        if stroke:\n",
    "            for i, coordinate in enumerate(stroke.split('|')):\n",
    "                result[-1][i & 1].append(int(coordinate))\n",
    "    return result"
   ]
  },
  {
   "cell_type": "code",
   "execution_count": 6,
   "metadata": {
    "collapsed": true
   },
   "outputs": [],
   "source": [
    "def normalize(strokes):\n",
    "    strokes = strokes[:]\n",
    "    x_low = y_low   = 256\n",
    "    x_high = y_high = 0\n",
    "    \n",
    "    # Find boundaries\n",
    "    for stroke in strokes:\n",
    "        x, y = stroke\n",
    "        x_low = min(x_low, min(x))\n",
    "        x_high = max(x_high, max(x))\n",
    "        y_low = min(y_low, min(y))\n",
    "        y_high = max(y_high, max(y))\n",
    "    current_dimension = 1 + max(x_high - x_low, \n",
    "                                y_high - y_low)\n",
    "    \n",
    "    # Align to upper-left, and stretch to dimension\n",
    "    for stroke in strokes:\n",
    "        x, y = stroke\n",
    "        x[:] = [(v - x_low) * DIMENSION / current_dimension for v in x]\n",
    "        y[:] = [(v - y_low) * DIMENSION / current_dimension for v in y]\n",
    "    return strokes"
   ]
  },
  {
   "cell_type": "code",
   "execution_count": 7,
   "metadata": {
    "collapsed": true
   },
   "outputs": [],
   "source": [
    "input_strokes = []\n",
    "with open('./data/strokes.txt', 'r') as doc:\n",
    "    for line in doc:\n",
    "        line = line.strip()\n",
    "        input_strokes.append(decode_input(line))"
   ]
  },
  {
   "cell_type": "code",
   "execution_count": 8,
   "metadata": {
    "collapsed": true
   },
   "outputs": [],
   "source": [
    "raw = input_strokes[13]\n",
    "normalized = normalize(raw)"
   ]
  },
  {
   "cell_type": "code",
   "execution_count": 9,
   "metadata": {},
   "outputs": [
    {
     "data": {
      "image/png": "[encoded data removed]",
      "text/plain": [
       "<matplotlib.figure.Figure at 0x7f1bc7d03b90>"
      ]
     },
     "metadata": {},
     "output_type": "display_data"
    }
   ],
   "source": [
    "draw_from_strokes({ 'drawing': normalized })"
   ]
  },
  {
   "cell_type": "code",
   "execution_count": 10,
   "metadata": {},
   "outputs": [
    {
     "data": {
      "image/png": "[encoded data removed]",
      "text/plain": [
       "<matplotlib.figure.Figure at 0x7f1bbe0e4590>"
      ]
     },
     "metadata": {},
     "output_type": "display_data"
    }
   ],
   "source": [
    "draw_from_strokes({ 'drawing': raw })"
   ]
  },
  {
   "cell_type": "code",
   "execution_count": 11,
   "metadata": {},
   "outputs": [
    {
     "data": {
      "image/png": "[encoded data removed]",
      "text/plain": [
       "<matplotlib.figure.Figure at 0x7f1bbe036e50>"
      ]
     },
     "metadata": {},
     "output_type": "display_data"
    }
   ],
   "source": [
    "display_image_matrix({ 'drawing': normalized })"
   ]
  },
  {
   "cell_type": "code",
   "execution_count": 12,
   "metadata": {},
   "outputs": [
    {
     "data": {
      "image/png": "[encoded data removed]",
      "text/plain": [
       "<matplotlib.figure.Figure at 0x7f1bbe071590>"
      ]
     },
     "metadata": {},
     "output_type": "display_data"
    }
   ],
   "source": [
    "display_image_matrix({ 'drawing': RDP(normalized) })"
   ]
  }
 ],
 "metadata": {
  "kernelspec": {
   "display_name": "Python 2",
   "language": "python",
   "name": "python2"
  },
  "language_info": {
   "codemirror_mode": {
    "name": "ipython",
    "version": 2
   },
   "file_extension": ".py",
   "mimetype": "text/x-python",
   "name": "python",
   "nbconvert_exporter": "python",
   "pygments_lexer": "ipython2",
   "version": "2.7.13"
  }
 },
 "nbformat": 4,
 "nbformat_minor": 2
}
